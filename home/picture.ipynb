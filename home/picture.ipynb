{
  "nbformat": 4,
  "nbformat_minor": 0,
  "metadata": {
    "colab": {
      "provenance": [],
      "authorship_tag": "ABX9TyNbXKTqXiArNPfn95PL8RvL",
      "include_colab_link": true
    },
    "kernelspec": {
      "name": "python3",
      "display_name": "Python 3"
    },
    "language_info": {
      "name": "python"
    }
  },
  "cells": [
    {
      "cell_type": "markdown",
      "metadata": {
        "id": "view-in-github",
        "colab_type": "text"
      },
      "source": [
        "<a href=\"https://colab.research.google.com/github/secons127/deep-learning/blob/main/home/picture.ipynb\" target=\"_parent\"><img src=\"https://colab.research.google.com/assets/colab-badge.svg\" alt=\"Open In Colab\"/></a>"
      ]
    },
    {
      "cell_type": "code",
      "execution_count": 9,
      "metadata": {
        "colab": {
          "base_uri": "https://localhost:8080/"
        },
        "id": "OkADSvLuqGwi",
        "outputId": "99d11468-ca85-4e43-fffb-6734f076d15e"
      },
      "outputs": [
        {
          "output_type": "stream",
          "name": "stdout",
          "text": [
            "Requirement already satisfied: opencv-python in /usr/local/lib/python3.10/dist-packages (4.8.0.76)\n",
            "Requirement already satisfied: numpy>=1.21.2 in /usr/local/lib/python3.10/dist-packages (from opencv-python) (1.25.2)\n"
          ]
        }
      ],
      "source": [
        "pip install opencv-python"
      ]
    },
    {
      "cell_type": "code",
      "source": [
        "import cv2\n",
        "\n",
        "#고칠 이미지를 불러오자\n",
        "#이미지 파일 경로설정\n",
        "img_path='jsw.png'\n",
        "\n",
        "#이미지를 불러올때의 option값 생략하면 자동으로 1을 선택한다.\n",
        "option = 1\n",
        "target_img=cv2.imread(img_path, option)"
      ],
      "metadata": {
        "id": "Zz8ynpsOqRe7"
      },
      "execution_count": 10,
      "outputs": []
    },
    {
      "cell_type": "code",
      "source": [
        "import cv2\n",
        "from cv2 import dnn_superres\n",
        "\n",
        "#업스케일 도구 가져오기\n",
        "sr = dnn_superres.DnnSuperResImpl_create()\n",
        "\n",
        "#모델 읽어오기\n",
        "path = 'EDSR_x4.pb'\n",
        "sr.readModel(path)\n",
        "\n",
        "#모델의 이미지 스케일 지정하기(x3일때는 3, EDSR_x4.pb일때는 4를 입력하면 된다.)\n",
        "sr.setModel('edsr', 4)"
      ],
      "metadata": {
        "id": "aEBqHuefrUlE"
      },
      "execution_count": 11,
      "outputs": []
    },
    {
      "cell_type": "code",
      "source": [
        "import cv2\n",
        "\n",
        "# sr.upsample() 함수 대신에 이미지를 직접 업샘플링하는 예시입니다.\n",
        "# sr.upsample(target_img) 대신에 직접적으로 OpenCV의 resize() 함수를 사용합니다.\n",
        "# target_img는 업샘플링할 대상 이미지입니다.\n",
        "\n",
        "# 업샘플링할 이미지를 읽어옵니다.\n",
        "target_img = cv2.imread('jsw.jpg')\n",
        "\n",
        "# 업샘플링할 비율을 설정합니다. 예를 들어, 가로와 세로 방향으로 2배씩 업샘플링합니다.\n",
        "scale_factor = 2\n",
        "\n",
        "# OpenCV의 resize() 함수를 사용하여 이미지를 업샘플링합니다.\n",
        "upscaled_img = cv2.resize(target_img, None, fx=scale_factor, fy=scale_factor, interpolation=cv2.INTER_CUBIC)\n",
        "\n",
        "# 업샘플링된 이미지를 파일에 저장합니다.\n",
        "cv2.imwrite('./Upscaled_Test.png', upscaled_img)\n"
      ],
      "metadata": {
        "colab": {
          "base_uri": "https://localhost:8080/"
        },
        "id": "pyycFniws3K7",
        "outputId": "cacda170-f6b1-4b71-8101-50df5e7789af"
      },
      "execution_count": 14,
      "outputs": [
        {
          "output_type": "execute_result",
          "data": {
            "text/plain": [
              "True"
            ]
          },
          "metadata": {},
          "execution_count": 14
        }
      ]
    },
    {
      "cell_type": "code",
      "source": [
        "upscaled = sr.upsample(target_img)\n",
        "\n",
        "cv2.imwrite('./Upscaled_Test.png', upscaled)"
      ],
      "metadata": {
        "colab": {
          "base_uri": "https://localhost:8080/",
          "height": 141
        },
        "id": "a7B7go6UrWhR",
        "outputId": "16f2e78d-8c24-43f1-ef0a-447d384a9388"
      },
      "execution_count": 15,
      "outputs": [
        {
          "output_type": "error",
          "ename": "NameError",
          "evalue": "name 'upscaled' is not defined",
          "traceback": [
            "\u001b[0;31m---------------------------------------------------------------------------\u001b[0m",
            "\u001b[0;31mNameError\u001b[0m                                 Traceback (most recent call last)",
            "\u001b[0;32m<ipython-input-15-89e9e5febd10>\u001b[0m in \u001b[0;36m<cell line: 1>\u001b[0;34m()\u001b[0m\n\u001b[0;32m----> 1\u001b[0;31m \u001b[0mcv2\u001b[0m\u001b[0;34m.\u001b[0m\u001b[0mimwrite\u001b[0m\u001b[0;34m(\u001b[0m\u001b[0;34m'./Upscaled_Test.png'\u001b[0m\u001b[0;34m,\u001b[0m \u001b[0mupscaled\u001b[0m\u001b[0;34m)\u001b[0m\u001b[0;34m\u001b[0m\u001b[0;34m\u001b[0m\u001b[0m\n\u001b[0m",
            "\u001b[0;31mNameError\u001b[0m: name 'upscaled' is not defined"
          ]
        }
      ]
    }
  ]
}